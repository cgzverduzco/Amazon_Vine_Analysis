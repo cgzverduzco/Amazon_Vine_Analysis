{
  "nbformat": 4,
  "nbformat_minor": 0,
  "metadata": {
    "colab": {
      "name": "Vine_Review_Analysis.ipynb",
      "provenance": []
    },
    "kernelspec": {
      "name": "python3",
      "display_name": "Python 3"
    },
    "language_info": {
      "name": "python"
    }
  },
  "cells": [
    {
      "cell_type": "code",
      "metadata": {
        "colab": {
          "base_uri": "https://localhost:8080/"
        },
        "id": "UNuIglXJNnZB",
        "outputId": "016de193-9f27-4053-c101-6d7dfede106d"
      },
      "source": [
        "import os\n",
        "# Find the latest version of spark 3.0  from http://www-us.apache.org/dist/spark/ and enter as the spark version\n",
        "# For example:\n",
        "# spark_version = 'spark-3.0.2'\n",
        "spark_version = 'spark-3.0.0'\n",
        "os.environ['SPARK_VERSION']=spark_version\n",
        "print(f\"http://www.apache.org/dist/spark/{spark_version}/{spark_version}-bin-hadoop2.7.tgz\")\n",
        "# Install Spark and Java\n",
        "!apt-get update\n",
        "!apt-get install openjdk-11-jdk-headless -qq > /dev/null\n",
        "!wget -q https://archive.apache.org/dist/spark/$SPARK_VERSION/$SPARK_VERSION-bin-hadoop2.7.tgz\n",
        "\n",
        "!tar xf $SPARK_VERSION-bin-hadoop2.7.tgz\n",
        "!pip install -q findspark\n",
        "\n",
        "# Set Environment Variables\n",
        "os.environ[\"JAVA_HOME\"] = \"/usr/lib/jvm/java-11-openjdk-amd64\"\n",
        "os.environ[\"SPARK_HOME\"] = f\"/content/{spark_version}-bin-hadoop2.7\"\n",
        "\n",
        "# Start a SparkSession\n",
        "import findspark\n",
        "findspark.init()"
      ],
      "execution_count": 1,
      "outputs": [
        {
          "output_type": "stream",
          "name": "stdout",
          "text": [
            "http://www.apache.org/dist/spark/spark-3.0.0/spark-3.0.0-bin-hadoop2.7.tgz\n",
            "Get:1 http://security.ubuntu.com/ubuntu bionic-security InRelease [88.7 kB]\n",
            "Ign:2 https://developer.download.nvidia.com/compute/cuda/repos/ubuntu1804/x86_64  InRelease\n",
            "Ign:3 https://developer.download.nvidia.com/compute/machine-learning/repos/ubuntu1804/x86_64  InRelease\n",
            "Hit:4 http://archive.ubuntu.com/ubuntu bionic InRelease\n",
            "Hit:5 https://developer.download.nvidia.com/compute/cuda/repos/ubuntu1804/x86_64  Release\n",
            "Hit:6 https://developer.download.nvidia.com/compute/machine-learning/repos/ubuntu1804/x86_64  Release\n",
            "Get:7 http://ppa.launchpad.net/c2d4u.team/c2d4u4.0+/ubuntu bionic InRelease [15.9 kB]\n",
            "Get:8 http://archive.ubuntu.com/ubuntu bionic-updates InRelease [88.7 kB]\n",
            "Get:9 https://cloud.r-project.org/bin/linux/ubuntu bionic-cran40/ InRelease [3,626 B]\n",
            "Hit:10 http://ppa.launchpad.net/cran/libgit2/ubuntu bionic InRelease\n",
            "Get:11 http://archive.ubuntu.com/ubuntu bionic-backports InRelease [74.6 kB]\n",
            "Get:12 http://security.ubuntu.com/ubuntu bionic-security/universe amd64 Packages [1,431 kB]\n",
            "Get:13 http://ppa.launchpad.net/deadsnakes/ppa/ubuntu bionic InRelease [15.9 kB]\n",
            "Get:14 http://security.ubuntu.com/ubuntu bionic-security/main amd64 Packages [2,365 kB]\n",
            "Hit:15 http://ppa.launchpad.net/graphics-drivers/ppa/ubuntu bionic InRelease\n",
            "Get:18 http://ppa.launchpad.net/c2d4u.team/c2d4u4.0+/ubuntu bionic/main Sources [1,802 kB]\n",
            "Get:19 http://archive.ubuntu.com/ubuntu bionic-updates/universe amd64 Packages [2,210 kB]\n",
            "Get:20 http://archive.ubuntu.com/ubuntu bionic-updates/main amd64 Packages [2,801 kB]\n",
            "Get:21 http://ppa.launchpad.net/c2d4u.team/c2d4u4.0+/ubuntu bionic/main amd64 Packages [922 kB]\n",
            "Get:22 http://ppa.launchpad.net/deadsnakes/ppa/ubuntu bionic/main amd64 Packages [40.8 kB]\n",
            "Fetched 11.9 MB in 4s (2,770 kB/s)\n",
            "Reading package lists... Done\n"
          ]
        }
      ]
    },
    {
      "cell_type": "code",
      "metadata": {
        "colab": {
          "base_uri": "https://localhost:8080/"
        },
        "id": "m5JH1tFhNrJz",
        "outputId": "bead8cc9-e476-4ce5-b6c0-8e6ee30d5659"
      },
      "source": [
        "# Download the Postgres driver that will allow Spark to interact with Postgres.\n",
        "!wget https://jdbc.postgresql.org/download/postgresql-42.2.16.jar"
      ],
      "execution_count": 2,
      "outputs": [
        {
          "output_type": "stream",
          "name": "stdout",
          "text": [
            "--2021-10-08 23:24:37--  https://jdbc.postgresql.org/download/postgresql-42.2.16.jar\n",
            "Resolving jdbc.postgresql.org (jdbc.postgresql.org)... 72.32.157.228, 2001:4800:3e1:1::228\n",
            "Connecting to jdbc.postgresql.org (jdbc.postgresql.org)|72.32.157.228|:443... connected.\n",
            "HTTP request sent, awaiting response... 200 OK\n",
            "Length: 1002883 (979K) [application/java-archive]\n",
            "Saving to: ‘postgresql-42.2.16.jar’\n",
            "\n",
            "postgresql-42.2.16. 100%[===================>] 979.38K  --.-KB/s    in 0.1s    \n",
            "\n",
            "2021-10-08 23:24:37 (6.49 MB/s) - ‘postgresql-42.2.16.jar’ saved [1002883/1002883]\n",
            "\n"
          ]
        }
      ]
    },
    {
      "cell_type": "code",
      "metadata": {
        "id": "C6oGK-XgNtjY"
      },
      "source": [
        "from pyspark.sql import SparkSession\n",
        "spark = SparkSession.builder.appName(\"M16-Amazon-Challenge\").config(\"spark.driver.extraClassPath\",\"/content/postgresql-42.2.16.jar\").getOrCreate()"
      ],
      "execution_count": 3,
      "outputs": []
    },
    {
      "cell_type": "markdown",
      "metadata": {
        "id": "NAxTZVjCN7Ct"
      },
      "source": [
        "## **Load Amazon Data into Spark DataFrame**"
      ]
    },
    {
      "cell_type": "code",
      "metadata": {
        "colab": {
          "base_uri": "https://localhost:8080/"
        },
        "id": "oVWzGjNNNt7y",
        "outputId": "dcebd0ea-6551-47db-8ad7-b7fe4bae3b76"
      },
      "source": [
        "from pyspark import SparkFiles\n",
        "url = \"https://s3.amazonaws.com/amazon-reviews-pds/tsv/amazon_reviews_us_Home_Improvement_v1_00.tsv.gz\"\n",
        "spark.sparkContext.addFile(url)\n",
        "df = spark.read.option(\"encoding\", \"UTF-8\").csv(SparkFiles.get(\"\"), sep=\"\\t\", header=True, inferSchema=True)\n",
        "df.show()"
      ],
      "execution_count": 4,
      "outputs": [
        {
          "output_type": "stream",
          "name": "stdout",
          "text": [
            "+-----------+-----------+--------------+----------+--------------+--------------------+----------------+-----------+-------------+-----------+----+-----------------+--------------------+--------------------+-----------+\n",
            "|marketplace|customer_id|     review_id|product_id|product_parent|       product_title|product_category|star_rating|helpful_votes|total_votes|vine|verified_purchase|     review_headline|         review_body|review_date|\n",
            "+-----------+-----------+--------------+----------+--------------+--------------------+----------------+-----------+-------------+-----------+----+-----------------+--------------------+--------------------+-----------+\n",
            "|         US|   48881148|R215C9BDXTDQOW|B00FR4YQYK|     381800308|SadoTech Model C ...|Home Improvement|          4|            0|          0|   N|                Y|          Four Stars|        good product| 2015-08-31|\n",
            "|         US|   47882936|R1DTPUV1J57YHA|B00439MYYE|     921341748|iSpring T32M 3.2 ...|Home Improvement|          5|            0|          0|   N|                Y|Good price, quick...|Good price, quick...| 2015-08-31|\n",
            "|         US|   44435471| RFAZK5EWKJWOU|B00002N762|      56053291|Schlage F10CS V E...|Home Improvement|          5|            0|          0|   N|                Y|          Five Stars|       Excellent...!| 2015-08-31|\n",
            "|         US|   28377689|R2XT8X0O0WS1AL|B000QFCP1G|     595928517|Citri-Strip QCG73...|Home Improvement|          5|            0|          0|   N|                Y|Although *slightl...|Although *slightl...| 2015-08-31|\n",
            "|         US|   50134766|R14GRNANKO2Y2J|B00WRCRKOI|     417053744|SleekLighting Bul...|Home Improvement|          5|            0|          0|   N|                Y|      Great Adapters|These adapters ar...| 2015-08-31|\n",
            "|         US|   14066511|R2BLF9VYL24LCQ|B00NIH88EW|     275395071|VDOMUS&reg;Exquis...|Home Improvement|          5|            1|          1|   N|                Y|                nice|awesome and great...| 2015-08-31|\n",
            "|         US|   15211046|R1GI9UW5KJ671O|B005B9CI96|     856617815|Frigidaire 316075...|Home Improvement|          5|            0|          0|   N|                Y|          Five Stars|Perfect. Exactly ...| 2015-08-31|\n",
            "|         US|   14862498|R2H5CEJN863M86|B008L0OMWI|     125102494|Anyray® 5-Bulbs 7...|Home Improvement|          5|            0|          1|   N|                Y|So far working gr...|So far working gr...| 2015-08-31|\n",
            "|         US|   23617292| R5PPDHFOZ3SMU|B00P9FTC6O|     523110842|Cambridge 100 pcs...|Home Improvement|          5|            0|          0|   N|                Y|           Ties tie.|Not much to say a...| 2015-08-31|\n",
            "|         US|   35820485| RE1L9IENKJJ7Y|B00K6BQEHQ|     797306964|EUBUY Silver Tone...|Home Improvement|          1|            0|          0|   N|                Y|             GARBAGE|       crap quality.| 2015-08-31|\n",
            "|         US|   47162350|R3CZ0990QC2Z0H|B008BYQCWM|     865874404|Legend 809125 Leg...|Home Improvement|          5|            0|          0|   N|                Y|          Five Stars|  Good. As expected.| 2015-08-31|\n",
            "|         US|   31884789|R3UMMD2IO29QSP|B003BLHTOU|     183592595|Forearm Forklift ...|Home Improvement|          5|            0|          0|   N|                Y|           It works!|My husband and I ...| 2015-08-31|\n",
            "|         US|   43835770| R541LE5J3OJH2|B0065I114K|     185006358|Newer Technology ...|Home Improvement|          5|            0|          0|   N|                Y|          Five Stars|     works perfectly| 2015-08-31|\n",
            "|         US|   26212294|R10KD9FIE6Y1AS|B00J9XB6BQ|      53423207|Rok Hardware 25 P...|Home Improvement|          5|            0|          0|   N|                Y|Banging cabinet d...|Banging cabinet d...| 2015-08-31|\n",
            "|         US|   17876704|R1YT5YG0QG5DCG|B00K36NJ0E|     593464633|Drift Light Using...|Home Improvement|          5|            0|          0|   N|                Y|Great product for...|Great product for...| 2015-08-31|\n",
            "|         US|   22813225|R207LXJWL40V1S|B000ZIEOHW|     833911812|Troy DPH11 Profes...|Home Improvement|          4|            0|          0|   N|                Y|GETTING THE JOB D...|Drywalling our 18...| 2015-08-31|\n",
            "|         US|   25448576| RIDP0ZD7WT9DE|B0009YDHKC|     852173443|Wright Products V...|Home Improvement|          5|            0|          0|   N|                Y|          Five Stars|exact replacement...| 2015-08-31|\n",
            "|         US|   19754503|R2XJSNZ9219U1Z|B00LBGVLS2|     929968058|LiftMaster Garage...|Home Improvement|          5|            0|          0|   N|                Y|Easy to program g...|Works as advertis...| 2015-08-31|\n",
            "|         US|   17767084|R2M9F1FVVDOGFL|B00002N5DY|     830214712|Heath Zenith SL-5...|Home Improvement|          5|            0|          0|   N|                Y|     easy to install|Working well the ...| 2015-08-31|\n",
            "|         US|   48001709|R1QTOSE2BHU2LJ|B000BQOX88|     498022954|Intermatic T101 2...|Home Improvement|          3|            1|          2|   N|                Y|Kind of disappoin...|I connected the r...| 2015-08-31|\n",
            "+-----------+-----------+--------------+----------+--------------+--------------------+----------------+-----------+-------------+-----------+----+-----------------+--------------------+--------------------+-----------+\n",
            "only showing top 20 rows\n",
            "\n"
          ]
        }
      ]
    },
    {
      "cell_type": "markdown",
      "metadata": {
        "id": "ejpQOBC6OEyJ"
      },
      "source": [
        "## **Create DataFrames for vine table**"
      ]
    },
    {
      "cell_type": "code",
      "metadata": {
        "colab": {
          "base_uri": "https://localhost:8080/"
        },
        "id": "40sw4Z82NuIA",
        "outputId": "3083336f-2174-4a61-adf3-18c737c4bb91"
      },
      "source": [
        "# Create the vine_table. DataFrame\n",
        "# vine_df = df.select([])\n",
        "vine_df = df.select([\"review_id\",\"star_rating\",\"helpful_votes\",\"total_votes\",\"vine\",\"verified_purchase\"])\n",
        "vine_df.show(10)\n",
        "print((vine_df.count(), len(vine_df.columns)))"
      ],
      "execution_count": 38,
      "outputs": [
        {
          "output_type": "stream",
          "name": "stdout",
          "text": [
            "+--------------+-----------+-------------+-----------+----+-----------------+\n",
            "|     review_id|star_rating|helpful_votes|total_votes|vine|verified_purchase|\n",
            "+--------------+-----------+-------------+-----------+----+-----------------+\n",
            "|R215C9BDXTDQOW|          4|            0|          0|   N|                Y|\n",
            "|R1DTPUV1J57YHA|          5|            0|          0|   N|                Y|\n",
            "| RFAZK5EWKJWOU|          5|            0|          0|   N|                Y|\n",
            "|R2XT8X0O0WS1AL|          5|            0|          0|   N|                Y|\n",
            "|R14GRNANKO2Y2J|          5|            0|          0|   N|                Y|\n",
            "|R2BLF9VYL24LCQ|          5|            1|          1|   N|                Y|\n",
            "|R1GI9UW5KJ671O|          5|            0|          0|   N|                Y|\n",
            "|R2H5CEJN863M86|          5|            0|          1|   N|                Y|\n",
            "| R5PPDHFOZ3SMU|          5|            0|          0|   N|                Y|\n",
            "| RE1L9IENKJJ7Y|          1|            0|          0|   N|                Y|\n",
            "+--------------+-----------+-------------+-----------+----+-----------------+\n",
            "only showing top 10 rows\n",
            "\n",
            "(2634781, 6)\n"
          ]
        }
      ]
    },
    {
      "cell_type": "code",
      "metadata": {
        "colab": {
          "base_uri": "https://localhost:8080/"
        },
        "id": "B_PxyZXXNuOY",
        "outputId": "30bc1770-113f-4090-c89a-b2702dd414b7"
      },
      "source": [
        "#products_df.filter(products_df.product_id == \"B00E8A0JQS\").show(10)\n",
        "vine20Votes_df = vine_df.filter(vine_df.total_votes >= 20)\n",
        "vine20Votes_df.show()\n",
        "print((vine20Votes_df.count(), len(vine20Votes_df.columns)))"
      ],
      "execution_count": 36,
      "outputs": [
        {
          "output_type": "stream",
          "name": "stdout",
          "text": [
            "+--------------+-----------+-------------+-----------+----+-----------------+\n",
            "|     review_id|star_rating|helpful_votes|total_votes|vine|verified_purchase|\n",
            "+--------------+-----------+-------------+-----------+----+-----------------+\n",
            "|R2VIQ3UX794Q0O|          4|           21|         21|   N|                Y|\n",
            "|R1OA24IIHWF54G|          5|           43|         45|   N|                Y|\n",
            "| RJ7N3OOJR9RL0|          4|           63|         71|   N|                Y|\n",
            "|R1W8778CBXSRU6|          5|           28|         29|   N|                Y|\n",
            "|R2EFAM03SWLIJX|          1|           32|         35|   N|                Y|\n",
            "|R3F8P56ZDJ6PI8|          4|          106|        115|   N|                Y|\n",
            "|R2QYLQEK9UAJQ6|          5|           33|         34|   N|                Y|\n",
            "| RQCC7XNYI014B|          1|           91|         92|   N|                Y|\n",
            "|R2U8FRHRVW5D2C|          5|           23|         23|   N|                N|\n",
            "|R3RJZC5J4VP7AT|          4|           86|         91|   N|                N|\n",
            "|R2KBV3A9X53ULG|          5|           39|         45|   N|                Y|\n",
            "|R18XX6GVZ41CY1|          5|           21|         22|   N|                N|\n",
            "|R3V8NHJWQWOU7S|          5|           27|         27|   N|                Y|\n",
            "|R25FJV7A58YHEM|          1|           19|         22|   N|                Y|\n",
            "|R285Z02CQJJ36C|          3|           45|         48|   N|                Y|\n",
            "| R5UJCOLQBEADG|          1|           31|         35|   N|                Y|\n",
            "|R1KEUH7SZ9BIRK|          1|           20|         20|   N|                Y|\n",
            "|R16U59S8ZJGPLY|          5|           64|         64|   N|                Y|\n",
            "|R233D4SD2MHUZG|          5|           20|         20|   N|                Y|\n",
            "| RVDGV2G8PEUH2|          1|           13|         21|   N|                N|\n",
            "+--------------+-----------+-------------+-----------+----+-----------------+\n",
            "only showing top 20 rows\n",
            "\n",
            "(41458, 6)\n"
          ]
        }
      ]
    },
    {
      "cell_type": "code",
      "metadata": {
        "colab": {
          "base_uri": "https://localhost:8080/"
        },
        "id": "AMvnJGBnNuWP",
        "outputId": "7ca42a02-9fe8-4d9a-ebb4-2e7bd417dc98"
      },
      "source": [
        "vinePercentage_df = vine20Votes_df.filter((vine20Votes_df.helpful_votes/vine20Votes_df.total_votes) >= .5)\n",
        "vinePercentage_df.show()\n",
        "print((vinePercentage_df.count(), len(vinePercentage_df.columns)))\n"
      ],
      "execution_count": 37,
      "outputs": [
        {
          "output_type": "stream",
          "name": "stdout",
          "text": [
            "+--------------+-----------+-------------+-----------+----+-----------------+\n",
            "|     review_id|star_rating|helpful_votes|total_votes|vine|verified_purchase|\n",
            "+--------------+-----------+-------------+-----------+----+-----------------+\n",
            "|R2VIQ3UX794Q0O|          4|           21|         21|   N|                Y|\n",
            "|R1OA24IIHWF54G|          5|           43|         45|   N|                Y|\n",
            "| RJ7N3OOJR9RL0|          4|           63|         71|   N|                Y|\n",
            "|R1W8778CBXSRU6|          5|           28|         29|   N|                Y|\n",
            "|R2EFAM03SWLIJX|          1|           32|         35|   N|                Y|\n",
            "|R3F8P56ZDJ6PI8|          4|          106|        115|   N|                Y|\n",
            "|R2QYLQEK9UAJQ6|          5|           33|         34|   N|                Y|\n",
            "| RQCC7XNYI014B|          1|           91|         92|   N|                Y|\n",
            "|R2U8FRHRVW5D2C|          5|           23|         23|   N|                N|\n",
            "|R3RJZC5J4VP7AT|          4|           86|         91|   N|                N|\n",
            "|R2KBV3A9X53ULG|          5|           39|         45|   N|                Y|\n",
            "|R18XX6GVZ41CY1|          5|           21|         22|   N|                N|\n",
            "|R3V8NHJWQWOU7S|          5|           27|         27|   N|                Y|\n",
            "|R25FJV7A58YHEM|          1|           19|         22|   N|                Y|\n",
            "|R285Z02CQJJ36C|          3|           45|         48|   N|                Y|\n",
            "| R5UJCOLQBEADG|          1|           31|         35|   N|                Y|\n",
            "|R1KEUH7SZ9BIRK|          1|           20|         20|   N|                Y|\n",
            "|R16U59S8ZJGPLY|          5|           64|         64|   N|                Y|\n",
            "|R233D4SD2MHUZG|          5|           20|         20|   N|                Y|\n",
            "| RVDGV2G8PEUH2|          1|           13|         21|   N|                N|\n",
            "+--------------+-----------+-------------+-----------+----+-----------------+\n",
            "only showing top 20 rows\n",
            "\n",
            "(39095, 6)\n"
          ]
        }
      ]
    },
    {
      "cell_type": "code",
      "metadata": {
        "colab": {
          "base_uri": "https://localhost:8080/"
        },
        "id": "TmifQC2tNufo",
        "outputId": "89cc7faa-64cd-4bf9-bc43-581bc300d6d0"
      },
      "source": [
        "vinePaid_df = vinePercentage_df.filter(vinePercentage_df.vine == 'Y')\n",
        "vinePaid_df.show()\n",
        "print((vinePaid_df.count(), len(vinePaid_df.columns)))"
      ],
      "execution_count": 84,
      "outputs": [
        {
          "output_type": "stream",
          "name": "stdout",
          "text": [
            "+--------------+-----------+-------------+-----------+----+-----------------+\n",
            "|     review_id|star_rating|helpful_votes|total_votes|vine|verified_purchase|\n",
            "+--------------+-----------+-------------+-----------+----+-----------------+\n",
            "|R29V4UDSS053D8|          3|           33|         38|   Y|                N|\n",
            "|R1I2D068WC37PA|          3|           32|         37|   Y|                N|\n",
            "|R13W2U74F67QED|          5|           62|         76|   Y|                N|\n",
            "|R2QI37XFOBKUGD|          4|           24|         33|   Y|                N|\n",
            "|R19F60BB2DNCKN|          5|          170|        174|   Y|                N|\n",
            "|R2PYNEWYYQDWHI|          5|           24|         27|   Y|                N|\n",
            "|R1UEWHCPJL2XJB|          5|           70|         72|   Y|                N|\n",
            "| RXTMMEBRYZB53|          5|           21|         24|   Y|                N|\n",
            "|R1PXVYIYMYGUZL|          5|           21|         26|   Y|                N|\n",
            "| RSFMJJXFZHX1C|          5|           24|         25|   Y|                N|\n",
            "|R3AGOANU5B89WE|          4|           20|         21|   Y|                N|\n",
            "|R1Z849RVP83BSJ|          5|           21|         23|   Y|                N|\n",
            "|R2HQVKK2QW0EAT|          5|           20|         24|   Y|                N|\n",
            "|  RHSOAAAT5UVP|          5|           55|         56|   Y|                N|\n",
            "| RZXDK1RE3YQ97|          4|           18|         21|   Y|                N|\n",
            "|R2IQH4H2S5EROF|          5|           23|         24|   Y|                N|\n",
            "| R2BQ1FHU7OQPQ|          5|          212|        220|   Y|                N|\n",
            "| RH1A5XB16O3BM|          4|           28|         32|   Y|                N|\n",
            "| R4MAE8LHKDZMG|          5|           36|         39|   Y|                Y|\n",
            "|R2QLNOOJ4J16D2|          3|          111|        118|   Y|                N|\n",
            "+--------------+-----------+-------------+-----------+----+-----------------+\n",
            "only showing top 20 rows\n",
            "\n",
            "(266, 6)\n"
          ]
        }
      ]
    },
    {
      "cell_type": "code",
      "metadata": {
        "colab": {
          "base_uri": "https://localhost:8080/"
        },
        "id": "BKNw0F9waIT3",
        "outputId": "aa661bf7-c8ae-4a76-e1ac-18c07d07816a"
      },
      "source": [
        "vineUnpaid_df = vinePercentage_df.filter(vinePercentage_df.vine == 'N')\n",
        "vineUnpaid_df.show()\n",
        "print((vineUnpaid_df.count(), len(vineUnpaid_df.columns)))"
      ],
      "execution_count": 42,
      "outputs": [
        {
          "output_type": "stream",
          "name": "stdout",
          "text": [
            "+--------------+-----------+-------------+-----------+----+-----------------+\n",
            "|     review_id|star_rating|helpful_votes|total_votes|vine|verified_purchase|\n",
            "+--------------+-----------+-------------+-----------+----+-----------------+\n",
            "|R2VIQ3UX794Q0O|          4|           21|         21|   N|                Y|\n",
            "|R1OA24IIHWF54G|          5|           43|         45|   N|                Y|\n",
            "| RJ7N3OOJR9RL0|          4|           63|         71|   N|                Y|\n",
            "|R1W8778CBXSRU6|          5|           28|         29|   N|                Y|\n",
            "|R2EFAM03SWLIJX|          1|           32|         35|   N|                Y|\n",
            "|R3F8P56ZDJ6PI8|          4|          106|        115|   N|                Y|\n",
            "|R2QYLQEK9UAJQ6|          5|           33|         34|   N|                Y|\n",
            "| RQCC7XNYI014B|          1|           91|         92|   N|                Y|\n",
            "|R2U8FRHRVW5D2C|          5|           23|         23|   N|                N|\n",
            "|R3RJZC5J4VP7AT|          4|           86|         91|   N|                N|\n",
            "|R2KBV3A9X53ULG|          5|           39|         45|   N|                Y|\n",
            "|R18XX6GVZ41CY1|          5|           21|         22|   N|                N|\n",
            "|R3V8NHJWQWOU7S|          5|           27|         27|   N|                Y|\n",
            "|R25FJV7A58YHEM|          1|           19|         22|   N|                Y|\n",
            "|R285Z02CQJJ36C|          3|           45|         48|   N|                Y|\n",
            "| R5UJCOLQBEADG|          1|           31|         35|   N|                Y|\n",
            "|R1KEUH7SZ9BIRK|          1|           20|         20|   N|                Y|\n",
            "|R16U59S8ZJGPLY|          5|           64|         64|   N|                Y|\n",
            "|R233D4SD2MHUZG|          5|           20|         20|   N|                Y|\n",
            "| RVDGV2G8PEUH2|          1|           13|         21|   N|                N|\n",
            "+--------------+-----------+-------------+-----------+----+-----------------+\n",
            "only showing top 20 rows\n",
            "\n",
            "(38829, 6)\n"
          ]
        }
      ]
    },
    {
      "cell_type": "code",
      "metadata": {
        "id": "P-DowoEYaL1_"
      },
      "source": [
        "totalReviews = vinePaid_df.count()\n",
        "fiveStarReviews = vinePaid_df.filter(vinePaid_df.star_rating == 5).count()\n",
        "percentageFiveStarReviews = ((fiveStarReviews*100)/totalReviews)"
      ],
      "execution_count": 110,
      "outputs": []
    },
    {
      "cell_type": "code",
      "metadata": {
        "colab": {
          "base_uri": "https://localhost:8080/"
        },
        "id": "Dz0n0cPOpEIv",
        "outputId": "04fcd398-84ba-4d68-a0df-54ae5ab6eca0"
      },
      "source": [
        "print('----------------PAID VINES -----------------')\n",
        "print('Total reviews count: '+str(totalReviews))\n",
        "print('Five Star reviews count: '+str(fiveStarReviews))\n",
        "print('Percentage: '+str(percentageFiveStarReviews))"
      ],
      "execution_count": 112,
      "outputs": [
        {
          "output_type": "stream",
          "name": "stdout",
          "text": [
            "----------------PAID VINES -----------------\n",
            "Total reviews count: 266\n",
            "Five Star reviews count: 125\n",
            "Percentage: 46.99248120300752\n"
          ]
        }
      ]
    },
    {
      "cell_type": "code",
      "metadata": {
        "id": "KsemzbaIolQs"
      },
      "source": [
        "totalReviewsU = vineUnpaid_df.count()\n",
        "fiveStarReviewsU = vineUnpaid_df.filter(vineUnpaid_df.star_rating == 5).count()\n",
        "percentageFiveStarReviewsU = ((fiveStarReviewsU*100)/totalReviewsU)"
      ],
      "execution_count": 111,
      "outputs": []
    },
    {
      "cell_type": "code",
      "metadata": {
        "colab": {
          "base_uri": "https://localhost:8080/"
        },
        "id": "wKCmdArxnNmC",
        "outputId": "266e9cd1-233a-468a-f188-5f693e308344"
      },
      "source": [
        "print('----------------UNPAID VINES -----------------')\n",
        "print('Total reviews count: '+str(totalReviewsU))\n",
        "print('Five Star reviews count: '+str(fiveStarReviewsU))\n",
        "print('Percentage: '+str(percentageFiveStarReviewsU))"
      ],
      "execution_count": 113,
      "outputs": [
        {
          "output_type": "stream",
          "name": "stdout",
          "text": [
            "----------------UNPAID VINES -----------------\n",
            "Total reviews count: 38829\n",
            "Five Star reviews count: 18246\n",
            "Percentage: 46.99065131731438\n"
          ]
        }
      ]
    },
    {
      "cell_type": "code",
      "metadata": {
        "id": "MoRT5tTJqk-M"
      },
      "source": [
        ""
      ],
      "execution_count": null,
      "outputs": []
    }
  ]
}